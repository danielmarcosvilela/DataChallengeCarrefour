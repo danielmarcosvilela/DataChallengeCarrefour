{
 "cells": [
  {
   "cell_type": "markdown",
   "id": "399c4c18",
   "metadata": {},
   "source": [
    "## ANALISE DE SENTIMENTOS SOBRE DADOS DO TWITTER"
   ]
  },
  {
   "cell_type": "code",
   "execution_count": 50,
   "id": "343cac87",
   "metadata": {},
   "outputs": [],
   "source": [
    "# Coleta de dados utilisando tweepy"
   ]
  },
  {
   "cell_type": "code",
   "execution_count": 76,
   "id": "768478b1",
   "metadata": {},
   "outputs": [
    {
     "name": "stdout",
     "output_type": "stream",
     "text": [
      "Requirement already satisfied: tweepy in /home/daniel/anaconda3/lib/python3.8/site-packages (3.10.0)\n",
      "Requirement already satisfied: requests-oauthlib>=0.7.0 in /home/daniel/anaconda3/lib/python3.8/site-packages (from tweepy) (1.3.0)\n",
      "Requirement already satisfied: six>=1.10.0 in /home/daniel/anaconda3/lib/python3.8/site-packages (from tweepy) (1.15.0)\n",
      "Requirement already satisfied: requests[socks]>=2.11.1 in /home/daniel/anaconda3/lib/python3.8/site-packages (from tweepy) (2.25.1)\n",
      "Requirement already satisfied: oauthlib>=3.0.0 in /home/daniel/anaconda3/lib/python3.8/site-packages (from requests-oauthlib>=0.7.0->tweepy) (3.1.1)\n",
      "Requirement already satisfied: urllib3<1.27,>=1.21.1 in /home/daniel/anaconda3/lib/python3.8/site-packages (from requests[socks]>=2.11.1->tweepy) (1.26.4)\n",
      "Requirement already satisfied: idna<3,>=2.5 in /home/daniel/anaconda3/lib/python3.8/site-packages (from requests[socks]>=2.11.1->tweepy) (2.10)\n",
      "Requirement already satisfied: certifi>=2017.4.17 in /home/daniel/anaconda3/lib/python3.8/site-packages (from requests[socks]>=2.11.1->tweepy) (2020.12.5)\n",
      "Requirement already satisfied: chardet<5,>=3.0.2 in /home/daniel/anaconda3/lib/python3.8/site-packages (from requests[socks]>=2.11.1->tweepy) (4.0.0)\n",
      "Requirement already satisfied: PySocks!=1.5.7,>=1.5.6 in /home/daniel/anaconda3/lib/python3.8/site-packages (from requests[socks]>=2.11.1->tweepy) (1.7.1)\n"
     ]
    }
   ],
   "source": [
    "!pip install tweepy"
   ]
  },
  {
   "cell_type": "code",
   "execution_count": 77,
   "id": "21bc7732",
   "metadata": {},
   "outputs": [],
   "source": [
    "from tweepy.streaming import StreamListener\n",
    "from tweepy import OAuthHandler\n",
    "from tweepy import Stream\n",
    "from datetime import datetime\n",
    "import json"
   ]
  },
  {
   "cell_type": "code",
   "execution_count": 78,
   "id": "0eb67647",
   "metadata": {},
   "outputs": [],
   "source": [
    "import tweepy as tw"
   ]
  },
  {
   "cell_type": "code",
   "execution_count": 79,
   "id": "805a8687",
   "metadata": {},
   "outputs": [],
   "source": [
    "consumer_key = 'gOcNKOCJijLGDoFa8FAmONpnE'"
   ]
  },
  {
   "cell_type": "code",
   "execution_count": 80,
   "id": "2c620f0f",
   "metadata": {},
   "outputs": [],
   "source": [
    "consumer_secret = 'dzsMAP4uuZhxXJt76e7Wr2J02jielwXym3Yo83yBNfI4LQm1cm'"
   ]
  },
  {
   "cell_type": "code",
   "execution_count": 81,
   "id": "164a28f7",
   "metadata": {},
   "outputs": [],
   "source": [
    "access_token = '1437599585195675649-VLtsleSNHK4P3zPx5DkDFmuyk0zByk'"
   ]
  },
  {
   "cell_type": "code",
   "execution_count": 82,
   "id": "66063a8d",
   "metadata": {},
   "outputs": [],
   "source": [
    "access_token_secret = 'NjNJLt8NbQFIMtPF51ohlzU7zVszRA49gAZCDQlFVgnHx'"
   ]
  },
  {
   "cell_type": "code",
   "execution_count": 83,
   "id": "4b04b18f",
   "metadata": {},
   "outputs": [],
   "source": [
    "# Criando as chaves de autenticação\n",
    "auth = tw.OAuthHandler(consumer_key, consumer_secret)"
   ]
  },
  {
   "cell_type": "code",
   "execution_count": 84,
   "id": "880e1fc0",
   "metadata": {},
   "outputs": [],
   "source": [
    "auth.set_access_token(access_token, access_token_secret)"
   ]
  },
  {
   "cell_type": "code",
   "execution_count": 85,
   "id": "bc0b9361",
   "metadata": {},
   "outputs": [],
   "source": [
    "api = tw.API(auth)"
   ]
  },
  {
   "cell_type": "code",
   "execution_count": 86,
   "id": "f6cee035",
   "metadata": {},
   "outputs": [],
   "source": [
    "my_tweets = api.home_timeline()"
   ]
  },
  {
   "cell_type": "code",
   "execution_count": 87,
   "id": "61d62975",
   "metadata": {},
   "outputs": [
    {
     "data": {
      "text/plain": [
       "tweepy.api.API"
      ]
     },
     "execution_count": 87,
     "metadata": {},
     "output_type": "execute_result"
    }
   ],
   "source": [
    "type(api)"
   ]
  },
  {
   "cell_type": "code",
   "execution_count": 88,
   "id": "d9409a79",
   "metadata": {},
   "outputs": [
    {
     "data": {
      "text/plain": [
       "tweepy.models.ResultSet"
      ]
     },
     "execution_count": 88,
     "metadata": {},
     "output_type": "execute_result"
    }
   ],
   "source": [
    "type(my_tweets)"
   ]
  },
  {
   "cell_type": "code",
   "execution_count": 89,
   "id": "0fee1a1c",
   "metadata": {},
   "outputs": [],
   "source": [
    "pesquisa = api.search(q=\"Netflix OR A Fazenda OR Record OR Estupro\")"
   ]
  },
  {
   "cell_type": "code",
   "execution_count": 90,
   "id": "ab7ea831",
   "metadata": {},
   "outputs": [
    {
     "name": "stdout",
     "output_type": "stream",
     "text": [
      "RT @daymelloreal: A polícia e a equipe jurídica estão na porta da sede de “A Fazenda” neste exato momento, tentando contato imediato para q…\n",
      "RT @felipeneto: A polícia tem q fazer alguma coisa, pq se depender da Record o cara ainda ganha esse programa.\n",
      "RT @daymelloreal: A Record continua dificultando o acesso das autoridades e da equipe jurídica, mesmo com a apresentação da documentação ne…\n",
      "RT @kccabello35: DAYANE VOLTOU MUITO ESTRANHA SERÁ QUE MANDARAM ELA SE CALAR? ELA QUER FALAR ALGO PARA A ALINE \n",
      "\n",
      "ESTUPRO NA FAZENDA\n",
      "RT @barbiecomentaa: a lista de adm’s do nego do borel rt pra ESPALHAR 🆘 \n",
      "\n",
      "     RECORD EXPULSÃO JÁ https://t.co/7LSxpWaebj\n",
      "RT @delucca: É bem simples: se a Record estivesse preocupada com o bem estar e a segurança da moça, já teria visto as imagens e expulsado o…\n",
      "RT @tvlizando: Olha gente, sinceramente… Essa foi a última curtida que a Tia Ma deu! SEM COMENTÁRIOS!\n",
      "\n",
      "ESTUPRO NA RECORD\n",
      "RECORD EXPULSÃO JÁ…\n",
      "RT @badviuv: Não existe sobre hipótese alguma nenhuma possibilidade da vítima ser responsabilizada pelo estupro. Ela não sabe o que acontec…\n",
      "RT @GizellyTradutor: Pq a Polícia não tá fazendo nada?\n",
      "\n",
      "ESTUPRO NA RECORD\n",
      "RT @uairenan: Na moral, se a Record não expulsar o Nego do Borel vocês PRECISAM parar de assistir e comentar esse programa. Não se trata de…\n",
      "@_srtalycia A fazenda não deveria nem existir. Eles tem uma produção que é um lixo, câmeras e som péssimo, diretor… https://t.co/CAQN7R8ImN\n",
      "RT @GizellyTradutor: Pq a Polícia não tá fazendo nada?\n",
      "\n",
      "ESTUPRO NA RECORD\n",
      "RT @iane_m: Dayane não é de ficar em cima de nenhum homem da casa a não ser o rico, esse comportamento dela tá muito estranho. \n",
      "\n",
      "ESTUPRO NA…\n",
      "RT @HispanasMellos: Las horas siguen pasando esto es una agonía\n",
      "Es un acto inhumano tener a una víctima de abuso encerrada con su abusador,…\n",
      "RT @tuitakaik: a produção pediu pra dayane ficar perto do nego do borel. meu deus que absurdo. tudo isso pra parecer que ela quis fazer o a…\n"
     ]
    }
   ],
   "source": [
    "for twitters in pesquisa:\n",
    "    print(twitters.text)"
   ]
  },
  {
   "cell_type": "code",
   "execution_count": 91,
   "id": "670b6959",
   "metadata": {},
   "outputs": [],
   "source": [
    "query = \"Netflix OR A Fazenda OR Record OR Estupro\""
   ]
  },
  {
   "cell_type": "code",
   "execution_count": 92,
   "id": "9276208d",
   "metadata": {},
   "outputs": [],
   "source": [
    "pesquisa = api.search(q=query, lang='pt')"
   ]
  },
  {
   "cell_type": "code",
   "execution_count": 93,
   "id": "1e0e6880",
   "metadata": {},
   "outputs": [
    {
     "name": "stdout",
     "output_type": "stream",
     "text": [
      "RT @tuittafelipe: Vocês tem noção que se a Record mandou a Dayane ficar perto do Nego do Borel é para criar um VT e não ter que eliminar el…\n",
      "RT @daymelloreal: A polícia e a equipe jurídica estão na porta da sede de “A Fazenda” neste exato momento, tentando contato imediato para q…\n",
      "A Record decidiu contribuir com a justiça? Tomara que não seja ocultação de provas @juridico_dm @mpsp_oficial https://t.co/jbkRb7yUEy\n",
      "RT @BuzzFeedBrasil: Nego do Borel agora terá de responder à polícia, que acaba de abrir investigação formal contra ele, por estupro de vuln…\n",
      "@afazendarecord passou pano pro Nego @rocarelli que falta de vergonha. E seus patrocinadores seguem apoiando estupr… https://t.co/2Rp7Z2mnII\n",
      "RT @Dudu: Galera. Na moral? A record não vai querer tirar o Nego do Borel. A emissora tá doida pra Day dizer que não teve nada e ela lavar…\n",
      "RT @itsloloy: a Record tem que ser processada, é simplesmente repugnante eles buscarem audiência através de estupro, eles deveriam proteger…\n",
      "RT @thomazcomenta: a Dayane falou que é pra ela ficar perto do Nego do Borel? olha se isso for verdade não vai me surpreender, a Record é t…\n",
      "RT @Eubarclay: Agora as páginas de fofoca vão tudo pegar a cena da Piscina e postar dando a entender que a day tá favo do Nego do Borel, qu…\n",
      "RT @emidoclero: você pode até não gostar da Stéfani, mas se você for um pouco inteligente você vai entender que ela resumiu exatamente essa…\n",
      "RT @ManuelaDavila: São gravíssimas as imagens que circulam sobre a violência sexual num reality show da TV Record. A polícia deve investiga…\n",
      "RT @tuittafelipe: A Record acabou de remover mais de 400K tweets com a TAG \"NÃO É NÃO\" e aí, iremos nos calar? NÃO! iremos subir ainda mais…\n",
      "RT @ORosmello: A emissora está mantendo as atividades normais dentro do programa como se nada tivesse acontecido! Não podemos parar de cobr…\n",
      "RT @choquei: Adriane Galisteu repete várias vezes que quem manda é o público. Ok, então!\n",
      "\n",
      "O público quer a expulsão de Nego do Borel, Recor…\n",
      "RT @tuittafelipe: Vocês tem noção que se a Record mandou a Dayane ficar perto do Nego do Borel é para criar um VT e não ter que eliminar el…\n"
     ]
    }
   ],
   "source": [
    "for twitters in pesquisa:\n",
    "    print(twitters.text)"
   ]
  },
  {
   "cell_type": "code",
   "execution_count": 94,
   "id": "70e48bea",
   "metadata": {},
   "outputs": [],
   "source": [
    "# Analise de sentimento"
   ]
  },
  {
   "cell_type": "code",
   "execution_count": 4,
   "id": "485be5ab",
   "metadata": {},
   "outputs": [],
   "source": [
    "import pandas as pd\n",
    "import matplotlib.pyplot as plt\n",
    "import numpy as np\n",
    "import nltk\n"
   ]
  },
  {
   "cell_type": "code",
   "execution_count": 5,
   "id": "46387962",
   "metadata": {},
   "outputs": [],
   "source": [
    "%matplotlib inline"
   ]
  },
  {
   "cell_type": "code",
   "execution_count": 6,
   "id": "86ea824a",
   "metadata": {},
   "outputs": [],
   "source": [
    "Base_de_treinamentos = [('A polícia e a equipe jurídica estão na porta da sede de “A Fazenda','tensão'),\n",
    "                       ('A Record decidiu contribuir com a justiça? Tomara que não seja ocultação de provas','suspeita'),\n",
    "                       ('Nego do Borel agora terá de responder à polícia','tensão'),\n",
    "                       ('a fazenda emissora passou pano pro Nego, que falta de vergonha','revolta'),\n",
    "                       ('Galera. Na moral? A emissora não vai querer tirar o Nego do Borel','revolta'),\n",
    "                       ('A emissora tá doida pra Day dizer que não teve nada e ela lavar…','revolta'),\n",
    "                       ('a emissora tem que ser processada','raiva'),\n",
    "                       ('é simplesmente repugnante eles buscarem audiência através de estupro','revolta'),\n",
    "                       ('a Dayane falou que é pra ela ficar perto do Nego do Borel?','suspeita'),\n",
    "                       ('São gravíssimas as imagens que circulam sobre a violência sexual num reality show da TV','tensão'),\n",
    "                       ('A Emissora acabou de remover mais de 400K tweets com a TAG \"NÃO É NÃO\" e aí, iremos nos calar?','revolta'),\n",
    "                       ('A emissora está mantendo as atividades normais dentro do programa como se nada tivesse acontecido!','revolta'),\n",
    "                       ('O público quer a expulsão de Nego do Borel','raiva')]"
   ]
  },
  {
   "cell_type": "code",
   "execution_count": 7,
   "id": "8abd8fab",
   "metadata": {},
   "outputs": [],
   "source": [
    "Base_dados = pd.DataFrame(Base_de_treinamentos)"
   ]
  },
  {
   "cell_type": "code",
   "execution_count": 8,
   "id": "42ed7596",
   "metadata": {},
   "outputs": [],
   "source": [
    "Base_dados.columns = ['Frase', 'Sentimento']"
   ]
  },
  {
   "cell_type": "code",
   "execution_count": 9,
   "id": "4cb28755",
   "metadata": {},
   "outputs": [
    {
     "name": "stdout",
     "output_type": "stream",
     "text": [
      "Base de treinamento 13\n"
     ]
    }
   ],
   "source": [
    "print('Base de treinamento {}'.format(Base_dados.shape[0]))"
   ]
  },
  {
   "cell_type": "code",
   "execution_count": 10,
   "id": "0e1b099c",
   "metadata": {},
   "outputs": [
    {
     "data": {
      "text/plain": [
       "revolta     6\n",
       "tensão      3\n",
       "raiva       2\n",
       "suspeita    2\n",
       "Name: Sentimento, dtype: int64"
      ]
     },
     "execution_count": 10,
     "metadata": {},
     "output_type": "execute_result"
    }
   ],
   "source": [
    "Base_dados.Sentimento.value_counts()"
   ]
  },
  {
   "cell_type": "code",
   "execution_count": 11,
   "id": "af9f4579",
   "metadata": {},
   "outputs": [
    {
     "name": "stdout",
     "output_type": "stream",
     "text": [
      "revolta     46.153846\n",
      "tensão      23.076923\n",
      "raiva       15.384615\n",
      "suspeita    15.384615\n",
      "Name: Sentimento, dtype: float64\n"
     ]
    }
   ],
   "source": [
    "print((Base_dados.Sentimento.value_counts() / Base_dados.shape[0]) * 100)"
   ]
  },
  {
   "cell_type": "code",
   "execution_count": 51,
   "id": "4a070eae",
   "metadata": {},
   "outputs": [],
   "source": [
    "# Geração das amostras"
   ]
  },
  {
   "cell_type": "code",
   "execution_count": 12,
   "id": "d0e35a6d",
   "metadata": {},
   "outputs": [
    {
     "data": {
      "text/html": [
       "<div>\n",
       "<style scoped>\n",
       "    .dataframe tbody tr th:only-of-type {\n",
       "        vertical-align: middle;\n",
       "    }\n",
       "\n",
       "    .dataframe tbody tr th {\n",
       "        vertical-align: top;\n",
       "    }\n",
       "\n",
       "    .dataframe thead th {\n",
       "        text-align: right;\n",
       "    }\n",
       "</style>\n",
       "<table border=\"1\" class=\"dataframe\">\n",
       "  <thead>\n",
       "    <tr style=\"text-align: right;\">\n",
       "      <th></th>\n",
       "      <th>Frase</th>\n",
       "      <th>Sentimento</th>\n",
       "    </tr>\n",
       "  </thead>\n",
       "  <tbody>\n",
       "    <tr>\n",
       "      <th>2</th>\n",
       "      <td>Nego do Borel agora terá de responder à polícia</td>\n",
       "      <td>tensão</td>\n",
       "    </tr>\n",
       "    <tr>\n",
       "      <th>5</th>\n",
       "      <td>A emissora tá doida pra Day dizer que não teve...</td>\n",
       "      <td>revolta</td>\n",
       "    </tr>\n",
       "    <tr>\n",
       "      <th>0</th>\n",
       "      <td>A polícia e a equipe jurídica estão na porta d...</td>\n",
       "      <td>tensão</td>\n",
       "    </tr>\n",
       "    <tr>\n",
       "      <th>6</th>\n",
       "      <td>a emissora tem que ser processada</td>\n",
       "      <td>raiva</td>\n",
       "    </tr>\n",
       "    <tr>\n",
       "      <th>7</th>\n",
       "      <td>é simplesmente repugnante eles buscarem audiên...</td>\n",
       "      <td>revolta</td>\n",
       "    </tr>\n",
       "    <tr>\n",
       "      <th>10</th>\n",
       "      <td>A Emissora acabou de remover mais de 400K twee...</td>\n",
       "      <td>revolta</td>\n",
       "    </tr>\n",
       "    <tr>\n",
       "      <th>8</th>\n",
       "      <td>a Dayane falou que é pra ela ficar perto do Ne...</td>\n",
       "      <td>suspeita</td>\n",
       "    </tr>\n",
       "    <tr>\n",
       "      <th>12</th>\n",
       "      <td>O público quer a expulsão de Nego do Borel</td>\n",
       "      <td>raiva</td>\n",
       "    </tr>\n",
       "    <tr>\n",
       "      <th>1</th>\n",
       "      <td>A Record decidiu contribuir com a justiça? Tom...</td>\n",
       "      <td>suspeita</td>\n",
       "    </tr>\n",
       "    <tr>\n",
       "      <th>9</th>\n",
       "      <td>São gravíssimas as imagens que circulam sobre ...</td>\n",
       "      <td>tensão</td>\n",
       "    </tr>\n",
       "  </tbody>\n",
       "</table>\n",
       "</div>"
      ],
      "text/plain": [
       "                                                Frase Sentimento\n",
       "2     Nego do Borel agora terá de responder à polícia     tensão\n",
       "5   A emissora tá doida pra Day dizer que não teve...    revolta\n",
       "0   A polícia e a equipe jurídica estão na porta d...     tensão\n",
       "6                   a emissora tem que ser processada      raiva\n",
       "7   é simplesmente repugnante eles buscarem audiên...    revolta\n",
       "10  A Emissora acabou de remover mais de 400K twee...    revolta\n",
       "8   a Dayane falou que é pra ela ficar perto do Ne...   suspeita\n",
       "12         O público quer a expulsão de Nego do Borel      raiva\n",
       "1   A Record decidiu contribuir com a justiça? Tom...   suspeita\n",
       "9   São gravíssimas as imagens que circulam sobre ...     tensão"
      ]
     },
     "execution_count": 12,
     "metadata": {},
     "output_type": "execute_result"
    }
   ],
   "source": [
    "Base_dados.sample(n=10)"
   ]
  },
  {
   "cell_type": "code",
   "execution_count": 52,
   "id": "4a5fe577",
   "metadata": {},
   "outputs": [],
   "source": [
    "# Filtrando palavras desnecessárias"
   ]
  },
  {
   "cell_type": "code",
   "execution_count": 28,
   "id": "dd450a5a",
   "metadata": {},
   "outputs": [
    {
     "data": {
      "text/plain": [
       "array(['de', 'a', 'o', 'que', 'e', 'é', 'do', 'da', 'em', 'um', 'para',\n",
       "       'com', 'não', 'uma', 'os', 'no', 'se', 'na', 'por', 'mais', 'as',\n",
       "       'dos', 'como', 'mas', 'ao', 'ele', 'das', 'à', 'seu', 'sua', 'ou',\n",
       "       'quando', 'muito', 'nos', 'já', 'eu', 'também', 'só', 'pelo',\n",
       "       'pela', 'até', 'isso', 'ela', 'entre', 'depois', 'sem', 'mesmo',\n",
       "       'aos', 'seus', 'quem', 'nas', 'me', 'esse', 'eles', 'você', 'essa',\n",
       "       'num', 'nem', 'suas', 'meu', 'às', 'minha', 'numa', 'pelos',\n",
       "       'elas', 'qual', 'nós', 'lhe', 'deles', 'essas', 'esses', 'pelas',\n",
       "       'este', 'dele', 'tu', 'te', 'vocês', 'vos', 'lhes', 'meus',\n",
       "       'minhas', 'teu', 'tua', 'teus', 'tuas', 'nosso', 'nossa', 'nossos',\n",
       "       'nossas', 'dela', 'delas', 'esta', 'estes', 'estas', 'aquele',\n",
       "       'aquela', 'aqueles', 'aquelas', 'isto', 'aquilo', 'estou', 'está',\n",
       "       'estamos', 'estão', 'estive', 'esteve', 'estivemos', 'estiveram',\n",
       "       'estava', 'estávamos', 'estavam', 'estivera', 'estivéramos',\n",
       "       'esteja', 'estejamos', 'estejam', 'estivesse', 'estivéssemos',\n",
       "       'estivessem', 'estiver', 'estivermos', 'estiverem', 'hei', 'há',\n",
       "       'havemos', 'hão', 'houve', 'houvemos', 'houveram', 'houvera',\n",
       "       'houvéramos', 'haja', 'hajamos', 'hajam', 'houvesse',\n",
       "       'houvéssemos', 'houvessem', 'houver', 'houvermos', 'houverem',\n",
       "       'houverei', 'houverá', 'houveremos', 'houverão', 'houveria',\n",
       "       'houveríamos', 'houveriam', 'sou', 'somos', 'são', 'era', 'éramos',\n",
       "       'eram', 'fui', 'foi', 'fomos', 'foram', 'fora', 'fôramos', 'seja',\n",
       "       'sejamos', 'sejam', 'fosse', 'fôssemos', 'fossem', 'for', 'formos',\n",
       "       'forem', 'serei', 'será', 'seremos', 'serão', 'seria', 'seríamos',\n",
       "       'seriam', 'tenho', 'tem', 'temos', 'tém', 'tinha', 'tínhamos',\n",
       "       'tinham', 'tive', 'teve', 'tivemos', 'tiveram', 'tivera',\n",
       "       'tivéramos', 'tenha', 'tenhamos', 'tenham', 'tivesse',\n",
       "       'tivéssemos', 'tivessem', 'tiver', 'tivermos', 'tiverem', 'terei',\n",
       "       'terá', 'teremos', 'terão', 'teria', 'teríamos', 'teriam'],\n",
       "      dtype='<U12')"
      ]
     },
     "execution_count": 28,
     "metadata": {},
     "output_type": "execute_result"
    }
   ],
   "source": [
    "lista_Stop = nltk.corpus.stopwords.words('portuguese')\n",
    "np.transpose(lista_Stop)"
   ]
  },
  {
   "cell_type": "code",
   "execution_count": 29,
   "id": "ecfd7830",
   "metadata": {},
   "outputs": [],
   "source": [
    "def removeStopWords(texto):\n",
    "    frases = []\n",
    "    for (palavras, sentimento) in texto:\n",
    "        semStop = [p for p in palavras.split() if p not in meu_stopwords]\n",
    "        frases.append((semStop, sentimento))\n",
    "    return frases    "
   ]
  },
  {
   "cell_type": "code",
   "execution_count": 30,
   "id": "013d9240",
   "metadata": {},
   "outputs": [],
   "source": [
    "def aplica_Stemmer(texto):\n",
    "    stemmer = nltk.stem.RSLPStemmer()\n",
    "    frases_sem_Stemming = []\n",
    "    for (palavras, sentimento) in texto:\n",
    "        com_Stemming = [str(stemmer.stem(p)) for p in palavras.split() if p not in meu_stopwords]\n",
    "        frases_sem_Stemming.append((com_Stemming, sentimento))\n",
    "    return frases_sem_Stemming    "
   ]
  },
  {
   "cell_type": "code",
   "execution_count": 53,
   "id": "4d0c70f5",
   "metadata": {},
   "outputs": [],
   "source": [
    "# Palavras à utilizar"
   ]
  },
  {
   "cell_type": "code",
   "execution_count": 31,
   "id": "2bb1658d",
   "metadata": {},
   "outputs": [],
   "source": [
    "from nltk import rslp"
   ]
  },
  {
   "cell_type": "code",
   "execution_count": 32,
   "id": "608d1d7e",
   "metadata": {},
   "outputs": [],
   "source": [
    "frases_com_Stem_treinamento = aplica_Stemmer(Base_de_treinamentos)"
   ]
  },
  {
   "cell_type": "code",
   "execution_count": 33,
   "id": "538bf52c",
   "metadata": {},
   "outputs": [
    {
     "data": {
      "text/html": [
       "<div>\n",
       "<style scoped>\n",
       "    .dataframe tbody tr th:only-of-type {\n",
       "        vertical-align: middle;\n",
       "    }\n",
       "\n",
       "    .dataframe tbody tr th {\n",
       "        vertical-align: top;\n",
       "    }\n",
       "\n",
       "    .dataframe thead th {\n",
       "        text-align: right;\n",
       "    }\n",
       "</style>\n",
       "<table border=\"1\" class=\"dataframe\">\n",
       "  <thead>\n",
       "    <tr style=\"text-align: right;\">\n",
       "      <th></th>\n",
       "      <th>Frase</th>\n",
       "      <th>Sentimento</th>\n",
       "    </tr>\n",
       "  </thead>\n",
       "  <tbody>\n",
       "    <tr>\n",
       "      <th>12</th>\n",
       "      <td>[o, públic, qu, expuls, neg, borel]</td>\n",
       "      <td>raiva</td>\n",
       "    </tr>\n",
       "    <tr>\n",
       "      <th>9</th>\n",
       "      <td>[são, grav, imag, que, circul, viol, sex, num,...</td>\n",
       "      <td>tensão</td>\n",
       "    </tr>\n",
       "    <tr>\n",
       "      <th>11</th>\n",
       "      <td>[a, emis, est, mant, ativ, norm, dentr, progra...</td>\n",
       "      <td>revolta</td>\n",
       "    </tr>\n",
       "    <tr>\n",
       "      <th>3</th>\n",
       "      <td>[fazend, emis, pan, pro, nego,, que, falt, ver...</td>\n",
       "      <td>revolta</td>\n",
       "    </tr>\n",
       "    <tr>\n",
       "      <th>4</th>\n",
       "      <td>[galera., na, moral?, a, emis, vai, quer, tir,...</td>\n",
       "      <td>revolta</td>\n",
       "    </tr>\n",
       "    <tr>\n",
       "      <th>10</th>\n",
       "      <td>[a, emis, acab, remov, mais, 400k, tweet, tag,...</td>\n",
       "      <td>revolta</td>\n",
       "    </tr>\n",
       "    <tr>\n",
       "      <th>8</th>\n",
       "      <td>[dayan, fal, que, pra, ela, fic, pert, neg, bo...</td>\n",
       "      <td>suspeita</td>\n",
       "    </tr>\n",
       "    <tr>\n",
       "      <th>1</th>\n",
       "      <td>[a, record, decid, contribu, justiça?, tom, qu...</td>\n",
       "      <td>suspeita</td>\n",
       "    </tr>\n",
       "    <tr>\n",
       "      <th>5</th>\n",
       "      <td>[a, emis, tá, doid, pra, day, diz, que, tev, n...</td>\n",
       "      <td>revolta</td>\n",
       "    </tr>\n",
       "    <tr>\n",
       "      <th>2</th>\n",
       "      <td>[neg, borel, agor, ter, respond, à, políci]</td>\n",
       "      <td>tensão</td>\n",
       "    </tr>\n",
       "  </tbody>\n",
       "</table>\n",
       "</div>"
      ],
      "text/plain": [
       "                                                Frase Sentimento\n",
       "12                [o, públic, qu, expuls, neg, borel]      raiva\n",
       "9   [são, grav, imag, que, circul, viol, sex, num,...     tensão\n",
       "11  [a, emis, est, mant, ativ, norm, dentr, progra...    revolta\n",
       "3   [fazend, emis, pan, pro, nego,, que, falt, ver...    revolta\n",
       "4   [galera., na, moral?, a, emis, vai, quer, tir,...    revolta\n",
       "10  [a, emis, acab, remov, mais, 400k, tweet, tag,...    revolta\n",
       "8   [dayan, fal, que, pra, ela, fic, pert, neg, bo...   suspeita\n",
       "1   [a, record, decid, contribu, justiça?, tom, qu...   suspeita\n",
       "5   [a, emis, tá, doid, pra, day, diz, que, tev, n...    revolta\n",
       "2         [neg, borel, agor, ter, respond, à, políci]     tensão"
      ]
     },
     "execution_count": 33,
     "metadata": {},
     "output_type": "execute_result"
    }
   ],
   "source": [
    "pd.DataFrame(frases_com_Stem_treinamento, columns=['Frase', 'Sentimento']).sample(10)"
   ]
  },
  {
   "cell_type": "code",
   "execution_count": 34,
   "id": "86c257dd",
   "metadata": {},
   "outputs": [],
   "source": [
    "def busca_Palavras(frases):\n",
    "    todas_Palavras = []\n",
    "    for (palavras, sentimento) in frases:\n",
    "        todas_Palavras.extend(palavras)\n",
    "    return todas_Palavras    "
   ]
  },
  {
   "cell_type": "code",
   "execution_count": 36,
   "id": "1d1d323f",
   "metadata": {},
   "outputs": [],
   "source": [
    "palavras_treinamento = busca_Palavras(frases_com_Stem_treinamento)\n"
   ]
  },
  {
   "cell_type": "code",
   "execution_count": 37,
   "id": "40a39128",
   "metadata": {},
   "outputs": [
    {
     "name": "stdout",
     "output_type": "stream",
     "text": [
      "Quantidade de palavras na Base de Treinamento <bound method DataFrame.count of           0\n",
      "0         a\n",
      "1    políci\n",
      "2     equip\n",
      "3     juríd\n",
      "4       est\n",
      "..      ...\n",
      "117  públic\n",
      "118      qu\n",
      "119  expuls\n",
      "120     neg\n",
      "121   borel\n",
      "\n",
      "[122 rows x 1 columns]>\n"
     ]
    }
   ],
   "source": [
    "print(\"Quantidade de palavras na Base de Treinamento {}\".format(pd.DataFrame(palavras_treinamento).count))"
   ]
  },
  {
   "cell_type": "code",
   "execution_count": 38,
   "id": "5281574d",
   "metadata": {},
   "outputs": [],
   "source": [
    "def busca_frequencia(palavras):\n",
    "    palavras = nltk.FreqDist(palavras)\n",
    "    return palavras"
   ]
  },
  {
   "cell_type": "code",
   "execution_count": 39,
   "id": "bf4f8da1",
   "metadata": {},
   "outputs": [],
   "source": [
    "frequencia_treinamento = busca_frequencia(palavras_treinamento)"
   ]
  },
  {
   "cell_type": "code",
   "execution_count": 40,
   "id": "f3810696",
   "metadata": {},
   "outputs": [
    {
     "data": {
      "text/plain": [
       "[('a', 6),\n",
       " ('que', 6),\n",
       " ('emis', 6),\n",
       " ('neg', 4),\n",
       " ('borel', 3),\n",
       " ('políci', 2),\n",
       " ('est', 2),\n",
       " ('na', 2),\n",
       " ('fazend', 2),\n",
       " ('pra', 2),\n",
       " ('nad', 2),\n",
       " ('ela', 2),\n",
       " ('equip', 1),\n",
       " ('juríd', 1),\n",
       " ('port', 1),\n",
       " ('sed', 1),\n",
       " ('“a', 1),\n",
       " ('record', 1),\n",
       " ('decid', 1),\n",
       " ('contribu', 1)]"
      ]
     },
     "execution_count": 40,
     "metadata": {},
     "output_type": "execute_result"
    }
   ],
   "source": [
    "frequencia_treinamento.most_common(20)"
   ]
  },
  {
   "cell_type": "code",
   "execution_count": 41,
   "id": "dc7f0d85",
   "metadata": {},
   "outputs": [],
   "source": [
    "def busca_palavras_unicas(frequencia):\n",
    "    fr = frequencia.keys()\n",
    "    return fr"
   ]
  },
  {
   "cell_type": "code",
   "execution_count": 42,
   "id": "80f92277",
   "metadata": {},
   "outputs": [],
   "source": [
    "palavras_unicas_treinamento = busca_palavras_unicas(frequencia_treinamento)"
   ]
  },
  {
   "cell_type": "code",
   "execution_count": 44,
   "id": "bac18e59",
   "metadata": {},
   "outputs": [],
   "source": [
    "def extrator_palavras(documento):\n",
    "    doc = set(documento)\n",
    "    caracteristicas = {}\n",
    "    for palavras in palavras_unicas_treinamento:\n",
    "        caracteristicas['%s' % palavras] = (palavras in doc)\n",
    "    return caracteristicas    "
   ]
  },
  {
   "cell_type": "code",
   "execution_count": 45,
   "id": "8414e61a",
   "metadata": {},
   "outputs": [],
   "source": [
    "base_completa_treinamento = nltk.classify.apply_features(extrator_palavras, frases_com_Stem_treinamento)"
   ]
  },
  {
   "cell_type": "code",
   "execution_count": 46,
   "id": "9c376529",
   "metadata": {},
   "outputs": [],
   "source": [
    "classificador = nltk.NaiveBayesClassifier.train(base_completa_treinamento)"
   ]
  },
  {
   "cell_type": "code",
   "execution_count": 47,
   "id": "e4c5c5ef",
   "metadata": {},
   "outputs": [
    {
     "name": "stdout",
     "output_type": "stream",
     "text": [
      "['tensão', 'suspeita', 'revolta', 'raiva']\n"
     ]
    }
   ],
   "source": [
    "print(classificador.labels())"
   ]
  },
  {
   "cell_type": "code",
   "execution_count": 54,
   "id": "b463a331",
   "metadata": {},
   "outputs": [],
   "source": [
    "# Eficiência dos testes"
   ]
  },
  {
   "cell_type": "code",
   "execution_count": 48,
   "id": "66bc256e",
   "metadata": {},
   "outputs": [
    {
     "name": "stdout",
     "output_type": "stream",
     "text": [
      "Most Informative Features\n",
      "                    emis = False          tensão : revolt =      4.1 : 1.0\n",
      "                  políci = False          revolt : tensão =      2.5 : 1.0\n",
      "                       a = False           raiva : revolt =      2.3 : 1.0\n",
      "                   borel = True            raiva : revolt =      2.3 : 1.0\n",
      "                     ela = True           suspei : revolt =      2.3 : 1.0\n",
      "                     neg = True            raiva : revolt =      2.3 : 1.0\n",
      "                     pra = True           suspei : revolt =      2.3 : 1.0\n",
      "                     que = True           suspei : revolt =      2.3 : 1.0\n",
      "                  borel? = False          revolt : suspei =      1.9 : 1.0\n",
      "                contribu = False          revolt : suspei =      1.9 : 1.0\n",
      "None\n"
     ]
    }
   ],
   "source": [
    "print(classificador.show_most_informative_features(10))"
   ]
  },
  {
   "cell_type": "code",
   "execution_count": 49,
   "id": "f6692560",
   "metadata": {},
   "outputs": [
    {
     "name": "stdout",
     "output_type": "stream",
     "text": [
      "1.0\n"
     ]
    }
   ],
   "source": [
    "print(nltk.classify.accuracy(classificador, base_completa_treinamento))"
   ]
  },
  {
   "cell_type": "code",
   "execution_count": null,
   "id": "d673d398",
   "metadata": {},
   "outputs": [],
   "source": []
  }
 ],
 "metadata": {
  "kernelspec": {
   "display_name": "Python 3",
   "language": "python",
   "name": "python3"
  },
  "language_info": {
   "codemirror_mode": {
    "name": "ipython",
    "version": 3
   },
   "file_extension": ".py",
   "mimetype": "text/x-python",
   "name": "python",
   "nbconvert_exporter": "python",
   "pygments_lexer": "ipython3",
   "version": "3.8.8"
  }
 },
 "nbformat": 4,
 "nbformat_minor": 5
}
